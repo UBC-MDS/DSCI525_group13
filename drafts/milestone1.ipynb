{
 "cells": [
  {
   "cell_type": "code",
   "execution_count": 1,
   "id": "d4843931-d7f9-4c6a-b595-65280872a4ef",
   "metadata": {
    "tags": []
   },
   "outputs": [],
   "source": [
    "import re\n",
    "import os\n",
    "import glob\n",
    "import zipfile\n",
    "import requests\n",
    "from urllib.request import urlretrieve\n",
    "import json\n",
    "import pandas as pd"
   ]
  },
  {
   "cell_type": "code",
   "execution_count": 2,
   "id": "9bc658d0-29be-4c9e-bb13-449b7262ac92",
   "metadata": {
    "tags": []
   },
   "outputs": [
    {
     "name": "stdout",
     "output_type": "stream",
     "text": [
      "C:\\Users\\Bruce\\DSCI525\n"
     ]
    }
   ],
   "source": [
    "%cd /Users/Bruce/DSCI525"
   ]
  },
  {
   "cell_type": "code",
   "execution_count": 3,
   "id": "d235e30b-da5d-4bfb-9fb3-20e397755f8c",
   "metadata": {
    "tags": []
   },
   "outputs": [],
   "source": [
    "article_id = 14096681  # this is the unique identifier of the article on figshare\n",
    "url = f\"https://api.figshare.com/v2/articles/{article_id}\"\n",
    "headers = {\"Content-Type\": \"application/json\"}\n",
    "output_directory = \"figsharedailyrain/\""
   ]
  },
  {
   "cell_type": "code",
   "execution_count": 4,
   "id": "9f0c8bfb-9482-451d-95ca-56377cdaaf4f",
   "metadata": {
    "tags": []
   },
   "outputs": [
    {
     "data": {
      "text/plain": [
       "[{'id': 26579150,\n",
       "  'name': 'daily_rainfall_2014.png',\n",
       "  'size': 58863,\n",
       "  'is_link_only': False,\n",
       "  'download_url': 'https://ndownloader.figshare.com/files/26579150',\n",
       "  'supplied_md5': 'fd32a2ffde300a31f8d63b1825d47e5e',\n",
       "  'computed_md5': 'fd32a2ffde300a31f8d63b1825d47e5e'},\n",
       " {'id': 26579171,\n",
       "  'name': 'environment.yml',\n",
       "  'size': 192,\n",
       "  'is_link_only': False,\n",
       "  'download_url': 'https://ndownloader.figshare.com/files/26579171',\n",
       "  'supplied_md5': '060b2020017eed93a1ee7dd8c65b2f34',\n",
       "  'computed_md5': '060b2020017eed93a1ee7dd8c65b2f34'},\n",
       " {'id': 26586554,\n",
       "  'name': 'README.md',\n",
       "  'size': 5422,\n",
       "  'is_link_only': False,\n",
       "  'download_url': 'https://ndownloader.figshare.com/files/26586554',\n",
       "  'supplied_md5': '61858c6cc0e6a6d6663a7e4c75bbd88c',\n",
       "  'computed_md5': '61858c6cc0e6a6d6663a7e4c75bbd88c'},\n",
       " {'id': 26766812,\n",
       "  'name': 'data.zip',\n",
       "  'size': 814041183,\n",
       "  'is_link_only': False,\n",
       "  'download_url': 'https://ndownloader.figshare.com/files/26766812',\n",
       "  'supplied_md5': 'b517383f76e77bd03755a63a8ff83ee9',\n",
       "  'computed_md5': 'b517383f76e77bd03755a63a8ff83ee9'},\n",
       " {'id': 26766815,\n",
       "  'name': 'get_data.py',\n",
       "  'size': 4113,\n",
       "  'is_link_only': False,\n",
       "  'download_url': 'https://ndownloader.figshare.com/files/26766815',\n",
       "  'supplied_md5': '7829028495fd9dec9680ea013474afa6',\n",
       "  'computed_md5': '7829028495fd9dec9680ea013474afa6'}]"
      ]
     },
     "execution_count": 4,
     "metadata": {},
     "output_type": "execute_result"
    }
   ],
   "source": [
    "response = requests.request(\"GET\", url, headers=headers)\n",
    "data = json.loads(response.text)  # this contains all the articles data, feel free to check it out\n",
    "files = data[\"files\"]             # this is just the data about the files, which is what we want\n",
    "files"
   ]
  },
  {
   "cell_type": "code",
   "execution_count": 5,
   "id": "12097a59-70f3-47e8-b1c2-e22f47895f36",
   "metadata": {
    "tags": []
   },
   "outputs": [
    {
     "name": "stdout",
     "output_type": "stream",
     "text": [
      "CPU times: total: 3.25 s\n",
      "Wall time: 2min 12s\n"
     ]
    }
   ],
   "source": [
    "%%time\n",
    "files_to_dl = [\"data.zip\"]  # feel free to add other files here\n",
    "for file in files:\n",
    "    if file[\"name\"] in files_to_dl:\n",
    "        os.makedirs(output_directory, exist_ok=True)\n",
    "        urlretrieve(file[\"download_url\"], output_directory + file[\"name\"])"
   ]
  },
  {
   "cell_type": "code",
   "execution_count": 6,
   "id": "d1c933c6-ffa5-40e7-927e-9ee49bc1c750",
   "metadata": {
    "tags": []
   },
   "outputs": [
    {
     "name": "stdout",
     "output_type": "stream",
     "text": [
      "CPU times: total: 17.5 s\n",
      "Wall time: 36.4 s\n"
     ]
    }
   ],
   "source": [
    "%%time\n",
    "with zipfile.ZipFile(os.path.join(output_directory, \"data.zip\"), 'r') as f:\n",
    "    f.extractall(output_directory)"
   ]
  },
  {
   "cell_type": "code",
   "execution_count": 8,
   "id": "7cdad817-d370-474b-bcb4-796844dbd266",
   "metadata": {
    "tags": []
   },
   "outputs": [
    {
     "data": {
      "text/html": [
       "<div>\n",
       "<style scoped>\n",
       "    .dataframe tbody tr th:only-of-type {\n",
       "        vertical-align: middle;\n",
       "    }\n",
       "\n",
       "    .dataframe tbody tr th {\n",
       "        vertical-align: top;\n",
       "    }\n",
       "\n",
       "    .dataframe thead th {\n",
       "        text-align: right;\n",
       "    }\n",
       "</style>\n",
       "<table border=\"1\" class=\"dataframe\">\n",
       "  <thead>\n",
       "    <tr style=\"text-align: right;\">\n",
       "      <th></th>\n",
       "      <th>time</th>\n",
       "      <th>lat_min</th>\n",
       "      <th>lat_max</th>\n",
       "      <th>lon_min</th>\n",
       "      <th>lon_max</th>\n",
       "      <th>rain (mm/day)</th>\n",
       "    </tr>\n",
       "  </thead>\n",
       "  <tbody>\n",
       "    <tr>\n",
       "      <th>0</th>\n",
       "      <td>1889-01-01 12:00:00</td>\n",
       "      <td>-35.887649</td>\n",
       "      <td>-34.766162</td>\n",
       "      <td>141.1875</td>\n",
       "      <td>142.3125</td>\n",
       "      <td>4.139137e+00</td>\n",
       "    </tr>\n",
       "    <tr>\n",
       "      <th>1</th>\n",
       "      <td>1889-01-02 12:00:00</td>\n",
       "      <td>-35.887649</td>\n",
       "      <td>-34.766162</td>\n",
       "      <td>141.1875</td>\n",
       "      <td>142.3125</td>\n",
       "      <td>7.438660e-03</td>\n",
       "    </tr>\n",
       "    <tr>\n",
       "      <th>2</th>\n",
       "      <td>1889-01-03 12:00:00</td>\n",
       "      <td>-35.887649</td>\n",
       "      <td>-34.766162</td>\n",
       "      <td>141.1875</td>\n",
       "      <td>142.3125</td>\n",
       "      <td>-5.490768e-20</td>\n",
       "    </tr>\n",
       "    <tr>\n",
       "      <th>3</th>\n",
       "      <td>1889-01-04 12:00:00</td>\n",
       "      <td>-35.887649</td>\n",
       "      <td>-34.766162</td>\n",
       "      <td>141.1875</td>\n",
       "      <td>142.3125</td>\n",
       "      <td>4.148483e-03</td>\n",
       "    </tr>\n",
       "    <tr>\n",
       "      <th>4</th>\n",
       "      <td>1889-01-05 12:00:00</td>\n",
       "      <td>-35.887649</td>\n",
       "      <td>-34.766162</td>\n",
       "      <td>141.1875</td>\n",
       "      <td>142.3125</td>\n",
       "      <td>4.291534e-04</td>\n",
       "    </tr>\n",
       "    <tr>\n",
       "      <th>...</th>\n",
       "      <td>...</td>\n",
       "      <td>...</td>\n",
       "      <td>...</td>\n",
       "      <td>...</td>\n",
       "      <td>...</td>\n",
       "      <td>...</td>\n",
       "    </tr>\n",
       "    <tr>\n",
       "      <th>3037315</th>\n",
       "      <td>2014-12-27 12:00:00</td>\n",
       "      <td>-30.280211</td>\n",
       "      <td>-29.158723</td>\n",
       "      <td>152.4375</td>\n",
       "      <td>153.5625</td>\n",
       "      <td>5.162060e+01</td>\n",
       "    </tr>\n",
       "    <tr>\n",
       "      <th>3037316</th>\n",
       "      <td>2014-12-28 12:00:00</td>\n",
       "      <td>-30.280211</td>\n",
       "      <td>-29.158723</td>\n",
       "      <td>152.4375</td>\n",
       "      <td>153.5625</td>\n",
       "      <td>4.504323e+01</td>\n",
       "    </tr>\n",
       "    <tr>\n",
       "      <th>3037317</th>\n",
       "      <td>2014-12-29 12:00:00</td>\n",
       "      <td>-30.280211</td>\n",
       "      <td>-29.158723</td>\n",
       "      <td>152.4375</td>\n",
       "      <td>153.5625</td>\n",
       "      <td>1.230073e+01</td>\n",
       "    </tr>\n",
       "    <tr>\n",
       "      <th>3037318</th>\n",
       "      <td>2014-12-30 12:00:00</td>\n",
       "      <td>-30.280211</td>\n",
       "      <td>-29.158723</td>\n",
       "      <td>152.4375</td>\n",
       "      <td>153.5625</td>\n",
       "      <td>1.943111e-01</td>\n",
       "    </tr>\n",
       "    <tr>\n",
       "      <th>3037319</th>\n",
       "      <td>2014-12-31 12:00:00</td>\n",
       "      <td>-30.280211</td>\n",
       "      <td>-29.158723</td>\n",
       "      <td>152.4375</td>\n",
       "      <td>153.5625</td>\n",
       "      <td>7.665157e-01</td>\n",
       "    </tr>\n",
       "  </tbody>\n",
       "</table>\n",
       "<p>3037320 rows × 6 columns</p>\n",
       "</div>"
      ],
      "text/plain": [
       "                        time    lat_min    lat_max   lon_min   lon_max  \\\n",
       "0        1889-01-01 12:00:00 -35.887649 -34.766162  141.1875  142.3125   \n",
       "1        1889-01-02 12:00:00 -35.887649 -34.766162  141.1875  142.3125   \n",
       "2        1889-01-03 12:00:00 -35.887649 -34.766162  141.1875  142.3125   \n",
       "3        1889-01-04 12:00:00 -35.887649 -34.766162  141.1875  142.3125   \n",
       "4        1889-01-05 12:00:00 -35.887649 -34.766162  141.1875  142.3125   \n",
       "...                      ...        ...        ...       ...       ...   \n",
       "3037315  2014-12-27 12:00:00 -30.280211 -29.158723  152.4375  153.5625   \n",
       "3037316  2014-12-28 12:00:00 -30.280211 -29.158723  152.4375  153.5625   \n",
       "3037317  2014-12-29 12:00:00 -30.280211 -29.158723  152.4375  153.5625   \n",
       "3037318  2014-12-30 12:00:00 -30.280211 -29.158723  152.4375  153.5625   \n",
       "3037319  2014-12-31 12:00:00 -30.280211 -29.158723  152.4375  153.5625   \n",
       "\n",
       "         rain (mm/day)  \n",
       "0         4.139137e+00  \n",
       "1         7.438660e-03  \n",
       "2        -5.490768e-20  \n",
       "3         4.148483e-03  \n",
       "4         4.291534e-04  \n",
       "...                ...  \n",
       "3037315   5.162060e+01  \n",
       "3037316   4.504323e+01  \n",
       "3037317   1.230073e+01  \n",
       "3037318   1.943111e-01  \n",
       "3037319   7.665157e-01  \n",
       "\n",
       "[3037320 rows x 6 columns]"
      ]
     },
     "execution_count": 8,
     "metadata": {},
     "output_type": "execute_result"
    }
   ],
   "source": [
    "use_cols = [\"time\", \"lat_min\", \"lat_max\", \"lon_min\",\"lon_max\",\"rain (mm/day)\"]\n",
    "df = pd.read_csv(\"figsharedailyrain/EC-Earth3-Veg-LR_daily_rainfall_NSW.csv\", usecols=use_cols,dtype={'TailNum': 'str'})\n",
    "df"
   ]
  },
  {
   "cell_type": "code",
   "execution_count": 18,
   "id": "ebf0d38c-38b8-4388-a120-245deb3553da",
   "metadata": {
    "tags": []
   },
   "outputs": [
    {
     "name": "stdout",
     "output_type": "stream",
     "text": [
      "CPU times: total: 6min 9s\n",
      "Wall time: 12min 4s\n"
     ]
    }
   ],
   "source": [
    "%%time\n",
    "## here we are using a normal python way for merging the data \n",
    "import pandas as pd\n",
    "use_cols = [\"time\", \"lat_min\", \"lat_max\", \"lon_min\",\"lon_max\",\"rain (mm/day)\"]\n",
    "files = glob.glob('figsharedailyrain/*.csv')\n",
    "df = pd.concat((pd.read_csv(file, index_col=0, usecols=use_cols)\n",
    "                .assign(model=re.findall(r'^([^_]*)', file_name)[0])\n",
    "                for file in files)\n",
    "              )\n",
    "df.to_csv(\"figsharedailyrain/combined_data.csv\")"
   ]
  },
  {
   "cell_type": "code",
   "execution_count": 20,
   "id": "b8a7c562-f604-473e-9c31-977dd6e7a855",
   "metadata": {
    "tags": []
   },
   "outputs": [
    {
     "data": {
      "text/plain": [
       "62467843"
      ]
     },
     "execution_count": 20,
     "metadata": {},
     "output_type": "execute_result"
    }
   ],
   "source": [
    "len(df)"
   ]
  },
  {
   "cell_type": "code",
   "execution_count": 46,
   "id": "c94a2796-cd39-4861-8d5e-51e3b9942951",
   "metadata": {
    "tags": []
   },
   "outputs": [
    {
     "name": "stdout",
     "output_type": "stream",
     "text": [
      "1889-01-01 12:00:00    1330\n",
      "1973-01-12 12:00:00    1330\n",
      "1972-12-23 12:00:00    1330\n",
      "1972-12-24 12:00:00    1330\n",
      "1972-12-25 12:00:00    1330\n",
      "                       ... \n",
      "1931-01-03               28\n",
      "1931-01-04               28\n",
      "1931-01-05               28\n",
      "1931-01-06               28\n",
      "2014-12-31               28\n",
      "Name: time, Length: 92010, dtype: int64\n",
      "CPU times: total: 1min 21s\n",
      "Wall time: 1min 27s\n"
     ]
    }
   ],
   "source": [
    "%%time\n",
    "use_cols = [\"time\", \"lat_min\", \"lat_max\", \"lon_min\",\"lon_max\",\"rain (mm/day)\"]\n",
    "df = pd.read_csv(\"figsharedailyrain/combined_data.csv\",usecols=use_cols)\n",
    "print(df['time'].value_counts())"
   ]
  },
  {
   "cell_type": "code",
   "execution_count": null,
   "id": "bb447485-be72-4742-964e-580219351117",
   "metadata": {},
   "outputs": [],
   "source": [
    "use_cols = ['time','rain (mm/day)']\n",
    "df = pd.read_csv(\"figsharedailyrain/combined_data.csv\",usecols=use_cols)\n",
    "print(df['time'].astype('float32', errors='ignore').value_counts())"
   ]
  },
  {
   "cell_type": "code",
   "execution_count": 24,
   "id": "081f21b1-74cc-4b72-b6ee-d1b3ca3c949b",
   "metadata": {
    "tags": []
   },
   "outputs": [
    {
     "data": {
      "text/plain": [
       "dtype('float64')"
      ]
     },
     "execution_count": 24,
     "metadata": {},
     "output_type": "execute_result"
    }
   ],
   "source": [
    "df['rain (mm/day)'].dtype"
   ]
  },
  {
   "cell_type": "code",
   "execution_count": 27,
   "id": "28b5b01e-5293-4543-a709-28e0f34a4b8b",
   "metadata": {
    "tags": []
   },
   "outputs": [
    {
     "name": "stdout",
     "output_type": "stream",
     "text": [
      "Memory usage with float64: 2498.71 MB\n",
      "Memory usage with float32: 1249.36 MB\n"
     ]
    }
   ],
   "source": [
    "print(f\"Memory usage with float64: {df[['lat_min', 'lat_max', 'lon_min','lon_max','rain (mm/day)']].memory_usage().sum() / 1e6:.2f} MB\")\n",
    "print(f\"Memory usage with float32: {df[['lat_min', 'lat_max', 'lon_min','lon_max','rain (mm/day)']].astype('float32', errors='ignore').memory_usage().sum() / 1e6:.2f} MB\")"
   ]
  },
  {
   "cell_type": "code",
   "execution_count": 32,
   "id": "edb306b7-a879-48dd-89d1-6a2e261bc432",
   "metadata": {
    "tags": []
   },
   "outputs": [],
   "source": [
    "import pyarrow.dataset as ds\n",
    "import pyarrow as pa\n",
    "import pandas as pd\n",
    "import pyarrow \n",
    "from pyarrow import csv\n",
    "import rpy2_arrow.pyarrow_rarrow as pyra"
   ]
  },
  {
   "cell_type": "code",
   "execution_count": 33,
   "id": "e4186e9f-18dc-4364-b374-c6a1c887f7d9",
   "metadata": {
    "tags": []
   },
   "outputs": [],
   "source": [
    "filepathcsv = \"/Users/Bruce/DSCI525/figsharedailyrain/combined_data.csv\"\n",
    "filepathparquet = \"/Users/Bruce/DSCI525/figsharedailyrain/combined_data.parquet\"\n",
    "filepathparquetr = \"/Users/Bruce/DSCI525/figsharedailyrain/combined_data_r.parquet\""
   ]
  },
  {
   "cell_type": "code",
   "execution_count": 34,
   "id": "c7fbcafe-20f7-47ff-990c-be5d5eb8f74d",
   "metadata": {
    "tags": []
   },
   "outputs": [
    {
     "name": "stdout",
     "output_type": "stream",
     "text": [
      "CPU times: total: 30.7 s\n",
      "Wall time: 57.4 s\n"
     ]
    }
   ],
   "source": [
    "%%time\n",
    "dataset = ds.dataset(filepathcsv, format=\"csv\")\n",
    "# Converting the `pyarrow dataset` to a `pyarrow table`\n",
    "table = dataset.to_table()\n",
    "# Converting a `pyarrow table` to a `rarrow table`\n",
    "r_table = pyra.converter.py2rpy(table)"
   ]
  },
  {
   "cell_type": "code",
   "execution_count": 36,
   "id": "21058991-e9cc-41bf-a1ee-34b8cd67d32b",
   "metadata": {
    "tags": []
   },
   "outputs": [
    {
     "name": "stderr",
     "output_type": "stream",
     "text": [
      "C:\\Users\\Bruce\\miniconda3\\envs\\525_2023\\lib\\site-packages\\rpy2\\robjects\\packages.py:367: UserWarning: The symbol 'quartz' is not in this R namespace/package.\n",
      "  warnings.warn(\n"
     ]
    }
   ],
   "source": [
    "%load_ext rpy2.ipython"
   ]
  },
  {
   "cell_type": "code",
   "execution_count": 37,
   "id": "3b24e5c8-b40e-402b-853d-553e84948f18",
   "metadata": {
    "tags": []
   },
   "outputs": [
    {
     "name": "stdout",
     "output_type": "stream",
     "text": [
      "\u001b[38;5;246m# A tibble: 92,010 x 2\u001b[39m\n",
      "   time                    n\n",
      "   \u001b[3m\u001b[38;5;246m<dttm>\u001b[39m\u001b[23m              \u001b[3m\u001b[38;5;246m<int>\u001b[39m\u001b[23m\n",
      "\u001b[38;5;250m 1\u001b[39m 1889-01-01 \u001b[38;5;246m04:00:00\u001b[39m  \u001b[4m1\u001b[24m330\n",
      "\u001b[38;5;250m 2\u001b[39m 1889-01-02 \u001b[38;5;246m04:00:00\u001b[39m  \u001b[4m1\u001b[24m330\n",
      "\u001b[38;5;250m 3\u001b[39m 1889-01-03 \u001b[38;5;246m04:00:00\u001b[39m  \u001b[4m1\u001b[24m330\n",
      "\u001b[38;5;250m 4\u001b[39m 1889-01-04 \u001b[38;5;246m04:00:00\u001b[39m  \u001b[4m1\u001b[24m330\n",
      "\u001b[38;5;250m 5\u001b[39m 1889-01-05 \u001b[38;5;246m04:00:00\u001b[39m  \u001b[4m1\u001b[24m330\n",
      "\u001b[38;5;250m 6\u001b[39m 1889-01-06 \u001b[38;5;246m04:00:00\u001b[39m  \u001b[4m1\u001b[24m330\n",
      "\u001b[38;5;250m 7\u001b[39m 1889-01-07 \u001b[38;5;246m04:00:00\u001b[39m  \u001b[4m1\u001b[24m330\n",
      "\u001b[38;5;250m 8\u001b[39m 1889-01-08 \u001b[38;5;246m04:00:00\u001b[39m  \u001b[4m1\u001b[24m330\n",
      "\u001b[38;5;250m 9\u001b[39m 1889-01-09 \u001b[38;5;246m04:00:00\u001b[39m  \u001b[4m1\u001b[24m330\n",
      "\u001b[38;5;250m10\u001b[39m 1889-01-10 \u001b[38;5;246m04:00:00\u001b[39m  \u001b[4m1\u001b[24m330\n",
      "\u001b[38;5;246m# ... with 92,000 more rows\u001b[39m\n",
      "\u001b[38;5;246m# i Use `print(n = ...)` to see more rows\u001b[39m\n",
      "Time difference of 0.857393 secs\n",
      "CPU times: total: 1.34 s\n",
      "Wall time: 2.66 s\n"
     ]
    }
   ],
   "source": [
    "%%time\n",
    "%%R -i r_table\n",
    "start_time <- Sys.time()\n",
    "suppressMessages(library(dplyr))\n",
    "result <- r_table %>% count(time)\n",
    "end_time <- Sys.time()\n",
    "print(result %>% collect())\n",
    "print(end_time - start_time)"
   ]
  },
  {
   "cell_type": "code",
   "execution_count": 39,
   "id": "49381363-0698-405b-8b4c-769f587db9fa",
   "metadata": {
    "tags": []
   },
   "outputs": [
    {
     "data": {
      "text/plain": [
       "37"
      ]
     },
     "execution_count": 39,
     "metadata": {},
     "output_type": "execute_result"
    }
   ],
   "source": [
    "len(r_table)"
   ]
  },
  {
   "cell_type": "code",
   "execution_count": 40,
   "id": "4e248e6e-a5b5-42df-9f84-b27addc1a589",
   "metadata": {
    "tags": []
   },
   "outputs": [
    {
     "name": "stdout",
     "output_type": "stream",
     "text": [
      "\u001b[38;5;246m# A tibble: 62,467,843 x 2\u001b[39m\n",
      "   time                model   \n",
      "   \u001b[3m\u001b[38;5;246m<dttm>\u001b[39m\u001b[23m              \u001b[3m\u001b[38;5;246m<chr>\u001b[39m\u001b[23m   \n",
      "\u001b[38;5;250m 1\u001b[39m 1889-01-01 \u001b[38;5;246m04:00:00\u001b[39m BCC-ESM1\n",
      "\u001b[38;5;250m 2\u001b[39m 1889-01-02 \u001b[38;5;246m04:00:00\u001b[39m BCC-ESM1\n",
      "\u001b[38;5;250m 3\u001b[39m 1889-01-03 \u001b[38;5;246m04:00:00\u001b[39m BCC-ESM1\n",
      "\u001b[38;5;250m 4\u001b[39m 1889-01-04 \u001b[38;5;246m04:00:00\u001b[39m BCC-ESM1\n",
      "\u001b[38;5;250m 5\u001b[39m 1889-01-05 \u001b[38;5;246m04:00:00\u001b[39m BCC-ESM1\n",
      "\u001b[38;5;250m 6\u001b[39m 1889-01-06 \u001b[38;5;246m04:00:00\u001b[39m BCC-ESM1\n",
      "\u001b[38;5;250m 7\u001b[39m 1889-01-07 \u001b[38;5;246m04:00:00\u001b[39m BCC-ESM1\n",
      "\u001b[38;5;250m 8\u001b[39m 1889-01-08 \u001b[38;5;246m04:00:00\u001b[39m BCC-ESM1\n",
      "\u001b[38;5;250m 9\u001b[39m 1889-01-09 \u001b[38;5;246m04:00:00\u001b[39m BCC-ESM1\n",
      "\u001b[38;5;250m10\u001b[39m 1889-01-10 \u001b[38;5;246m04:00:00\u001b[39m BCC-ESM1\n",
      "\u001b[38;5;246m# ... with 62,467,833 more rows\u001b[39m\n",
      "\u001b[38;5;246m# i Use `print(n = ...)` to see more rows\u001b[39m\n",
      "Time difference of 0.0197351 secs\n",
      "CPU times: total: 3.28 s\n",
      "Wall time: 5.28 s\n"
     ]
    }
   ],
   "source": [
    "%%time\n",
    "%%R -i r_table\n",
    "start_time <- Sys.time()\n",
    "suppressMessages(library(dplyr))\n",
    "result <- r_table %>% select(time,model)\n",
    "end_time <- Sys.time()\n",
    "print(result %>% collect())\n",
    "print(end_time - start_time)"
   ]
  },
  {
   "cell_type": "code",
   "execution_count": 44,
   "id": "79d47576-3c7b-4793-8185-c2b6f04cc91f",
   "metadata": {
    "tags": []
   },
   "outputs": [
    {
     "name": "stderr",
     "output_type": "stream",
     "text": [
      "R[write to console]: Warning:\n",
      "R[write to console]:  Expression as.double(\"rain (mm/day)\") not supported in Arrow; pulling data into R\n",
      "\n"
     ]
    },
    {
     "name": "stdout",
     "output_type": "stream",
     "text": [
      "\u001b[38;5;246m# A tibble: 62,467,843 x 8\u001b[39m\n",
      "   time                lat_min lat_max lon_min lon_max rain (mm/~1 model as.do~2\n",
      "   \u001b[3m\u001b[38;5;246m<dttm>\u001b[39m\u001b[23m                \u001b[3m\u001b[38;5;246m<dbl>\u001b[39m\u001b[23m   \u001b[3m\u001b[38;5;246m<dbl>\u001b[39m\u001b[23m   \u001b[3m\u001b[38;5;246m<dbl>\u001b[39m\u001b[23m   \u001b[3m\u001b[38;5;246m<dbl>\u001b[39m\u001b[23m       \u001b[3m\u001b[38;5;246m<dbl>\u001b[39m\u001b[23m \u001b[3m\u001b[38;5;246m<chr>\u001b[39m\u001b[23m   \u001b[3m\u001b[38;5;246m<dbl>\u001b[39m\u001b[23m\n",
      "\u001b[38;5;250m 1\u001b[39m 1889-01-01 \u001b[38;5;246m04:00:00\u001b[39m   -\u001b[31m36\u001b[39m\u001b[31m.\u001b[39m\u001b[31m2\u001b[39m     -\u001b[31m35\u001b[39m    141.    142.    3.29\u001b[38;5;246me\u001b[39m\u001b[31m-13\u001b[39m BCC-~      \u001b[31mNA\u001b[39m\n",
      "\u001b[38;5;250m 2\u001b[39m 1889-01-02 \u001b[38;5;246m04:00:00\u001b[39m   -\u001b[31m36\u001b[39m\u001b[31m.\u001b[39m\u001b[31m2\u001b[39m     -\u001b[31m35\u001b[39m    141.    142.    0   \u001b[38;5;246m \u001b[39m    BCC-~      \u001b[31mNA\u001b[39m\n",
      "\u001b[38;5;250m 3\u001b[39m 1889-01-03 \u001b[38;5;246m04:00:00\u001b[39m   -\u001b[31m36\u001b[39m\u001b[31m.\u001b[39m\u001b[31m2\u001b[39m     -\u001b[31m35\u001b[39m    141.    142.    0   \u001b[38;5;246m \u001b[39m    BCC-~      \u001b[31mNA\u001b[39m\n",
      "\u001b[38;5;250m 4\u001b[39m 1889-01-04 \u001b[38;5;246m04:00:00\u001b[39m   -\u001b[31m36\u001b[39m\u001b[31m.\u001b[39m\u001b[31m2\u001b[39m     -\u001b[31m35\u001b[39m    141.    142.    0   \u001b[38;5;246m \u001b[39m    BCC-~      \u001b[31mNA\u001b[39m\n",
      "\u001b[38;5;250m 5\u001b[39m 1889-01-05 \u001b[38;5;246m04:00:00\u001b[39m   -\u001b[31m36\u001b[39m\u001b[31m.\u001b[39m\u001b[31m2\u001b[39m     -\u001b[31m35\u001b[39m    141.    142.    1.05\u001b[38;5;246me\u001b[39m\u001b[31m- 2\u001b[39m BCC-~      \u001b[31mNA\u001b[39m\n",
      "\u001b[38;5;250m 6\u001b[39m 1889-01-06 \u001b[38;5;246m04:00:00\u001b[39m   -\u001b[31m36\u001b[39m\u001b[31m.\u001b[39m\u001b[31m2\u001b[39m     -\u001b[31m35\u001b[39m    141.    142.    3.29\u001b[38;5;246me\u001b[39m\u001b[31m- 2\u001b[39m BCC-~      \u001b[31mNA\u001b[39m\n",
      "\u001b[38;5;250m 7\u001b[39m 1889-01-07 \u001b[38;5;246m04:00:00\u001b[39m   -\u001b[31m36\u001b[39m\u001b[31m.\u001b[39m\u001b[31m2\u001b[39m     -\u001b[31m35\u001b[39m    141.    142.    8.91\u001b[38;5;246me\u001b[39m\u001b[31m- 2\u001b[39m BCC-~      \u001b[31mNA\u001b[39m\n",
      "\u001b[38;5;250m 8\u001b[39m 1889-01-08 \u001b[38;5;246m04:00:00\u001b[39m   -\u001b[31m36\u001b[39m\u001b[31m.\u001b[39m\u001b[31m2\u001b[39m     -\u001b[31m35\u001b[39m    141.    142.    3.16\u001b[38;5;246me\u001b[39m\u001b[31m- 2\u001b[39m BCC-~      \u001b[31mNA\u001b[39m\n",
      "\u001b[38;5;250m 9\u001b[39m 1889-01-09 \u001b[38;5;246m04:00:00\u001b[39m   -\u001b[31m36\u001b[39m\u001b[31m.\u001b[39m\u001b[31m2\u001b[39m     -\u001b[31m35\u001b[39m    141.    142.    3.11\u001b[38;5;246me\u001b[39m\u001b[31m- 2\u001b[39m BCC-~      \u001b[31mNA\u001b[39m\n",
      "\u001b[38;5;250m10\u001b[39m 1889-01-10 \u001b[38;5;246m04:00:00\u001b[39m   -\u001b[31m36\u001b[39m\u001b[31m.\u001b[39m\u001b[31m2\u001b[39m     -\u001b[31m35\u001b[39m    141.    142.    3.30\u001b[38;5;246me\u001b[39m\u001b[31m- 2\u001b[39m BCC-~      \u001b[31mNA\u001b[39m\n",
      "\u001b[38;5;246m# ... with 62,467,833 more rows, and abbreviated variable names\u001b[39m\n",
      "\u001b[38;5;246m#   1: `rain (mm/day)`, 2: `as.double(\"rain (mm/day)\")`\u001b[39m\n",
      "\u001b[38;5;246m# i Use `print(n = ...)` to see more rows\u001b[39m\n",
      "Time difference of 1.211628 secs\n",
      "CPU times: total: 5.33 s\n",
      "Wall time: 9.96 s\n"
     ]
    }
   ],
   "source": [
    "%%time\n",
    "%%R -i r_table\n",
    "start_time <- Sys.time()\n",
    "suppressMessages(library(dplyr))\n",
    "result <- r_table %>% group_by(time) %>% summarize(average_time=mean(time))\n",
    "end_time <- Sys.time()\n",
    "print(result %>% collect())\n",
    "print(end_time - start_time)"
   ]
  },
  {
   "cell_type": "markdown",
   "id": "ad54d232-b7b8-4cc7-89c2-f806fe52e9b7",
   "metadata": {},
   "source": [
    "**Reasoning**:  \n",
    "We will choose Arrow exchange since Arrow is optimized for performance and can take advantage of multi-core processors and distributed systems to speed up data transfer.\n",
    "One of the key benefits of Arrow is that it supports zero-copy data sharing between different programming languages. This means that the data can be transferred between Python and R without the need for copying or converting the data, which can be time-consuming and memory-intensive.\n",
    "Besides, Arrow has good support for both Python and R, with libraries available for both languages, which means that it's easy to integrate Arrow into existing Python and R workflows.  \n",
    "One disadvantage of using Pandas exchange is that it can be memory-intensive, especially for large datasets. When transferring data between Python and R using Pandas exchange, the entire dataset must be loaded into memory on both sides, which is not available for our dataset with 6GB. Moreover, Pandas exchange is not as efficient as Arrow exchange since it relies on serializing and deserializing data, which can be slower and less efficient than zero-copy data sharing.  \n",
    "The disadvantage of Parquet file in our dataset could be the low efficiency of using Parquet file for our dataset as it spends much more time than the Arrow exchange. Moreover, the Arrow exchange uses a flat memory layout, which means that the memory required to store the data is minimized, whereas Parquet file has a more complex memory layout that requires more memory to store the same data.  "
   ]
  },
  {
   "cell_type": "code",
   "execution_count": null,
   "id": "837a9de3-a7c4-4310-b89c-fe50964bead7",
   "metadata": {},
   "outputs": [],
   "source": []
  }
 ],
 "metadata": {
  "kernelspec": {
   "display_name": "Python [conda env:525_2023]",
   "language": "python",
   "name": "conda-env-525_2023-py"
  },
  "language_info": {
   "codemirror_mode": {
    "name": "ipython",
    "version": 3
   },
   "file_extension": ".py",
   "mimetype": "text/x-python",
   "name": "python",
   "nbconvert_exporter": "python",
   "pygments_lexer": "ipython3",
   "version": "3.10.10"
  }
 },
 "nbformat": 4,
 "nbformat_minor": 5
}
